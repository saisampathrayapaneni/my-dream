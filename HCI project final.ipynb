{
 "cells": [
  {
   "cell_type": "code",
   "execution_count": 1,
   "id": "8a302fd6",
   "metadata": {},
   "outputs": [
    {
     "ename": "ModuleNotFoundError",
     "evalue": "No module named 'cv2'",
     "output_type": "error",
     "traceback": [
      "\u001b[0;31m---------------------------------------------------------------------------\u001b[0m",
      "\u001b[0;31mModuleNotFoundError\u001b[0m                       Traceback (most recent call last)",
      "\u001b[0;32m/var/folders/8t/t6k4kq790r37zydy5m0pb6g40000gn/T/ipykernel_2163/1088186418.py\u001b[0m in \u001b[0;36m<module>\u001b[0;34m\u001b[0m\n\u001b[1;32m      1\u001b[0m \u001b[0;31m# OpenCV-Python library used for computer vision and image processing tasks.\u001b[0m\u001b[0;34m\u001b[0m\u001b[0;34m\u001b[0m\u001b[0m\n\u001b[1;32m      2\u001b[0m \u001b[0;31m# It provides various functions for image and video processing.\u001b[0m\u001b[0;34m\u001b[0m\u001b[0;34m\u001b[0m\u001b[0m\n\u001b[0;32m----> 3\u001b[0;31m \u001b[0;32mimport\u001b[0m \u001b[0mcv2\u001b[0m\u001b[0;34m\u001b[0m\u001b[0;34m\u001b[0m\u001b[0m\n\u001b[0m\u001b[1;32m      4\u001b[0m \u001b[0;34m\u001b[0m\u001b[0m\n\u001b[1;32m      5\u001b[0m \u001b[0;31m# Cross-platform framework for building multimodal applied machine learning pipelines.\u001b[0m\u001b[0;34m\u001b[0m\u001b[0;34m\u001b[0m\u001b[0m\n",
      "\u001b[0;31mModuleNotFoundError\u001b[0m: No module named 'cv2'"
     ]
    }
   ],
   "source": [
    "# OpenCV-Python library used for computer vision and image processing tasks. \n",
    "# It provides various functions for image and video processing.\n",
    "import cv2\n",
    "\n",
    "# Cross-platform framework for building multimodal applied machine learning pipelines. \n",
    "#In this code, it is used to detect hands in images and videos. ref. https://developers.google.com/mediapipe/solutions/vision/hand_landmarker\n",
    "import mediapipe as mp\n",
    "\n",
    "# This module provides functionality to read from and write to CSV (comma-separated value) files.\n",
    "import csv\n",
    "\n",
    "# This module supplies classes to work with dates and times.\n",
    "from datetime import datetime\n",
    "\n",
    "# This is a Python module used for automating web browsers.\n",
    "# It provides a way to interact with web pages through automated scripts.\n",
    "from selenium import webdriver\n",
    "\n",
    "# This is a sub-module of the mediapipe module and provides drawing utilities for use with the Mediapipe framework.\n",
    "mp_drawing = mp.solutions.drawing_utils\n",
    "\n",
    "# This is another sub-module of the mediapipe module and provides hand detection functionality using the Mediapipe framework.\n",
    "mp_hands = mp.solutions.hands\n",
    "\n",
    "# This code defines a function called \"recognizeHandGesture\", which takes in a list of \"landmarks\" as its input parameter. \n",
    "# These landmarks represent the coordinates of various points on a hand that have been detected by a computer vision algorithm.\n",
    "def recognizeHandGesture(landmarks):\n",
    "    \n",
    "    # The function first initializes variables to represent the state of each finger, with a default value of \"UNKNOW\". \n",
    "  thumbState = 'UNKNOW'\n",
    "  indexFingerState = 'UNKNOW'\n",
    "  middleFingerState = 'UNKNOW'\n",
    "  ringFingerState = 'UNKNOW'\n",
    "  littleFingerState = 'UNKNOW'\n",
    "  recognizedHandGesture = None\n",
    "    \n",
    "    # It then checks the position of each finger with respect to a \"pseudo-fix key point\" on the hand, which is the second landmark in the list. \n",
    "  pseudoFixKeyPoint = landmarks[2]['x']\n",
    "  if (landmarks[3]['x'] < pseudoFixKeyPoint and landmarks[4]['x'] < landmarks[3]['x']):\n",
    "    # Based on the position of each finger, the state variable for that finger is updated to either \"OPEN\" or \"CLOSE\".\n",
    "    thumbState = 'CLOSE'\n",
    "  elif (pseudoFixKeyPoint < landmarks[3]['x'] and landmarks[3]['x'] < landmarks[4]['x']):\n",
    "    thumbState = 'OPEN'\n",
    "\n",
    "  pseudoFixKeyPoint = landmarks[6]['y']\n",
    "  if (landmarks[7]['y'] < pseudoFixKeyPoint and landmarks[8]['y'] < landmarks[7]['y']):\n",
    "    indexFingerState = 'OPEN'\n",
    "  elif (pseudoFixKeyPoint < landmarks[7]['y'] and landmarks[7]['y'] < landmarks[8]['y']):\n",
    "    indexFingerState = 'CLOSE'\n",
    "\n",
    "  pseudoFixKeyPoint = landmarks[10]['y']\n",
    "  if (landmarks[11]['y'] < pseudoFixKeyPoint and landmarks[12]['y'] < landmarks[11]['y']):\n",
    "    middleFingerState = 'OPEN'\n",
    "  elif (pseudoFixKeyPoint < landmarks[11]['y'] and landmarks[11]['y'] < landmarks[12]['y']):\n",
    "    middleFingerState = 'CLOSE'\n",
    "\n",
    "  pseudoFixKeyPoint = landmarks[14]['y']\n",
    "  if (landmarks[15]['y'] < pseudoFixKeyPoint and landmarks[16]['y'] < landmarks[15]['y']):\n",
    "    ringFingerState = 'OPEN'\n",
    "  elif (pseudoFixKeyPoint < landmarks[15]['y'] and landmarks[15]['y'] < landmarks[16]['y']):\n",
    "    ringFingerState = 'CLOSE'\n",
    "\n",
    "  pseudoFixKeyPoint = landmarks[18]['y']\n",
    "  if (landmarks[19]['y'] < pseudoFixKeyPoint and landmarks[20]['y'] < landmarks[19]['y']):\n",
    "    littleFingerState = 'OPEN'\n",
    "  elif (pseudoFixKeyPoint < landmarks[19]['y'] and landmarks[19]['y'] < landmarks[20]['y']):\n",
    "    littleFingerState = 'CLOSE'\n",
    "\n",
    "    # The first conditional statement checks if all fingers are open and assigns the recognized hand gesture as 5.\n",
    "  if (thumbState == 'OPEN' and indexFingerState == 'OPEN' and middleFingerState == 'OPEN' and ringFingerState == 'OPEN' and littleFingerState == 'OPEN'):\n",
    "    recognizedHandGesture = 5\n",
    "    \n",
    "    # The second conditional statement checks if the thumb is closed while all other fingers are open and assigns the recognized hand gesture as 4.\n",
    "  elif (thumbState == 'CLOSE' and indexFingerState == 'OPEN' and middleFingerState == 'OPEN' and ringFingerState == 'OPEN' and littleFingerState == 'OPEN'):\n",
    "    recognizedHandGesture = 4\n",
    "    \n",
    "    # The third conditional statement checks if the ring finger and little finger are closed while all other fingers are open and assigns the recognized hand gesture as 3.\n",
    "  elif (thumbState == 'OPEN' and indexFingerState == 'OPEN' and middleFingerState == 'OPEN' and ringFingerState == 'CLOSE' and littleFingerState == 'CLOSE'):\n",
    "    recognizedHandGesture = 3\n",
    "    \n",
    "    # The fourth conditional statement checks if the middle finger, ring finger, and little finger are closed while the thumb and index finger are open and assigns the recognized hand gesture as 2\n",
    "  elif (thumbState == 'OPEN' and indexFingerState == 'OPEN' and middleFingerState == 'CLOSE' and ringFingerState == 'CLOSE' and littleFingerState == 'CLOSE'):\n",
    "    recognizedHandGesture = 2\n",
    "    \n",
    "    # The fifth conditional statement checks if the index finger and ring finger are closed while all other fingers are open and assigns the recognized hand gesture as 10.\n",
    "  elif (thumbState == 'OPEN' and indexFingerState == 'CLOSE' and middleFingerState == 'OPEN' and ringFingerState == 'CLOSE' and littleFingerState == 'CLOSE'):\n",
    "    recognizedHandGesture = 10\n",
    "    \n",
    "    # The sixth conditional statement checks if the middle finger, ring finger, and little finger are closed while the thumb and index finger are open and assigns the recognized hand gesture as 7.\n",
    "  elif (thumbState == 'OPEN' and indexFingerState == 'OPEN' and middleFingerState == 'CLOSE' and ringFingerState == 'CLOSE' and littleFingerState == 'OPEN'):\n",
    "    recognizedHandGesture = 7\n",
    "    \n",
    "   # The seventh conditional statement checks if the index finger and middle finger are closed while all other fingers are open and assigns the recognized hand gesture as 6. \n",
    "  elif (thumbState == 'OPEN' and indexFingerState == 'CLOSE' and middleFingerState == 'CLOSE' and ringFingerState == 'CLOSE' and littleFingerState == 'OPEN'):\n",
    "    recognizedHandGesture = 6\n",
    "  else:\n",
    "    # After all finger states have been determined, the function checks for specific combinations of finger states to determine the recognized hand gesture. \n",
    "    # If no recognized gesture is found, the function returns 0.\n",
    "    recognizedHandGesture = 0\n",
    "  return recognizedHandGesture\n",
    "\n",
    "\n",
    "\n",
    "\n",
    "# This function takes in a list of landmarks and returns a structured list of landmarks. \n",
    "# Each landmark in the structured list is represented as a dictionary with keys 'x' and 'y', which correspond to the x and y coordinates of the landmark respectively.\n",
    "def getStructuredLandmarks(landmarks):\n",
    "    \n",
    "    # The for loop iterates through the list of landmarks and checks if the index is odd (i.e. j % 2 == 1). If it is odd, it creates a dictionary with keys 'x' and 'y' and values equal to the previous and current elements in the list, respectively. \n",
    "    # This dictionary is then appended to the structuredLandmarks list.\n",
    "  structuredLandmarks = []\n",
    "  for j in range(42):\n",
    "    if( j %2 == 1):\n",
    "      structuredLandmarks.append({ 'x': landmarks[j - 1], 'y': landmarks[j] })\n",
    "  return structuredLandmarks\n",
    "\n",
    "\n",
    "\n",
    "\n",
    "# create a CSV file and write header\n",
    "csv_file = open(\"hand_gesture_data.csv\", \"w\", newline=\"\")\n",
    "csv_writer = csv.writer(csv_file)\n",
    "csv_writer.writerow([\"timestamp\", \"gesture\", \"action\", \"landmarks\"])\n",
    "\n",
    "chromedriver = \"chromedriver\"\n",
    "driver = webdriver.Chrome(chromedriver)\n",
    "\n",
    "# \"gesture_interface\" that captures live video input from the user's webcam and recognizes hand gestures using the MediaPipe Hands library. \n",
    "def gesture_interface():\n",
    "    \n",
    "    driver.get('https://www.youtube.com/watch?v=09R8_2nJtjg')\n",
    "    # The recognized hand gestures are mapped to certain actions that are performed on a YouTube video that is loaded in a web browser window opened by Selenium webdriver.\n",
    "    driver.execute_script('document.getElementsByTagName(\"video\")[0].play()')\n",
    "    hands = mp_hands.Hands(min_detection_confidence=0.7, min_tracking_confidence=0.5)\n",
    "    cap = cv2.VideoCapture(0)\n",
    "    i = 0\n",
    "    c = 0\n",
    "    \n",
    "    # # the function uses MediaPipe Hands to detect and track hand landmarks in the current frame.\n",
    "    # If any hand landmarks are detected, they are drawn on the frame using OpenCV.\n",
    "    while cap.isOpened():\n",
    "        l = []\n",
    "        i += 1\n",
    "        success, image = cap.read()\n",
    "        if not success:\n",
    "            break\n",
    "        image = cv2.cvtColor(cv2.flip(image, 1), cv2.COLOR_BGR2RGB)\n",
    "        image.flags.writeable = False\n",
    "        results = hands.process(image)\n",
    "        image.flags.writeable = True\n",
    "        image = cv2.cvtColor(image, cv2.COLOR_RGB2BGR)\n",
    "        o = results\n",
    "        if results.multi_hand_landmarks:\n",
    "            for hand_landmarks in results.multi_hand_landmarks:\n",
    "                mp_drawing.draw_landmarks(image, hand_landmarks, mp_hands.HAND_CONNECTIONS)\n",
    "                c += 1\n",
    "                for lp in hand_landmarks.landmark:\n",
    "                    l.append(lp.x)\n",
    "                    l.append(lp.y)\n",
    "        cv2.imshow('MediaPipe Hands', image)\n",
    "        \n",
    "        # The function then passes the detected hand landmarks to another function named \"recognizeHandGesture()\" that returns a number corresponding to the recognized hand gesture.\n",
    "        try:\n",
    "            recognizedHandGesture = recognizeHandGesture(getStructuredLandmarks(l))\n",
    "            print(recognizedHandGesture)\n",
    "            action = \"\"\n",
    "            if recognizedHandGesture == 5:\n",
    "                driver.execute_script('document.getElementsByTagName(\"video\")[0].pause()')\n",
    "                action = \"pause\"\n",
    "            elif recognizedHandGesture == 4:\n",
    "                driver.execute_script('document.getElementsByTagName(\"video\")[0].play()')\n",
    "                action = \"play\"\n",
    "            elif recognizedHandGesture == 3:\n",
    "                driver.execute_script('document.getElementsByTagName(\"video\")[0].playbackRate = 2')\n",
    "                action = \"speed 2x\"\n",
    "            elif recognizedHandGesture == 2:\n",
    "                driver.execute_script('document.getElementsByTagName(\"video\")[0].playbackRate = 1')\n",
    "                action = \"speed 1x\"\n",
    "                \n",
    "             #  If a recognized hand gesture corresponds to an action on the YouTube video, the function uses Selenium to execute a JavaScript command that performs that action.\n",
    "            #  The recognized hand gesture, action performed, and detected hand landmarks are then written to a CSV file.\n",
    "            # write the data to CSV file\n",
    "            csv_writer.writerow([datetime.now().strftime(\"%Y-%m-%d %H:%M:%S\"), recognizedHandGesture, action, l])\n",
    "            \n",
    "        except:\n",
    "            print('None')\n",
    "        if cv2.waitKey(5) & 0xFF == 27:\n",
    "            break\n",
    "    hands.close()\n",
    "    cap.release()\n",
    "    csv_file.close()\n",
    "\n",
    "gesture_interface()\n"
   ]
  },
  {
   "cell_type": "code",
   "execution_count": 19,
   "id": "aeb61d64",
   "metadata": {},
   "outputs": [
    {
     "name": "stdout",
     "output_type": "stream",
     "text": [
      "             timestamp  gesture action  \\\n",
      "0  2023-04-29 21:01:13        0    NaN   \n",
      "1  2023-04-29 21:01:14        0    NaN   \n",
      "2  2023-04-29 21:01:14        0    NaN   \n",
      "3  2023-04-29 21:01:14        4   play   \n",
      "4  2023-04-29 21:01:14        4   play   \n",
      "\n",
      "                                           landmarks  \n",
      "0  [0.9390199780464172, 0.860045313835144, 0.8386...  \n",
      "1  [0.9420972466468811, 0.8733319044113159, 0.841...  \n",
      "2  [0.9310383200645447, 0.8304200172424316, 0.964...  \n",
      "3  [0.8922770619392395, 0.7841624021530151, 0.950...  \n",
      "4  [0.9005929827690125, 0.7858502864837646, 0.952...  \n"
     ]
    }
   ],
   "source": [
    "# Reading and displaying the CSV data\n",
    "import pandas as pd\n",
    "import matplotlib.pyplot as plt\n",
    "from datetime import datetime\n",
    "\n",
    "import seaborn as sns\n",
    "# Read the CSV data into a pandas DataFrame\n",
    "df = pd.read_csv('hand_gesture_data.csv')\n",
    "\n",
    "# Display the first 5 rows of the DataFrame\n",
    "print(df.head())"
   ]
  },
  {
   "cell_type": "code",
   "execution_count": 20,
   "id": "8be71d34",
   "metadata": {},
   "outputs": [
    {
     "name": "stdout",
     "output_type": "stream",
     "text": [
      "0    292\n",
      "4    290\n",
      "5    136\n",
      "3     53\n",
      "2     46\n",
      "7     21\n",
      "Name: gesture, dtype: int64\n"
     ]
    }
   ],
   "source": [
    "# Count the number of occurrences of each gesture\n",
    "gesture_counts = df['gesture'].value_counts()\n",
    "\n",
    "# Display the counts\n",
    "print(gesture_counts)\n"
   ]
  },
  {
   "cell_type": "code",
   "execution_count": 21,
   "id": "7466d7af",
   "metadata": {},
   "outputs": [
    {
     "name": "stdout",
     "output_type": "stream",
     "text": [
      "   gesture    action  count\n",
      "0        2  speed 1x     46\n",
      "1        3  speed 2x     53\n",
      "2        4      play    290\n",
      "3        5     pause    136\n"
     ]
    }
   ],
   "source": [
    "# Group the data by gesture and action and count the number of occurrences\n",
    "grouped_data = df.groupby(['gesture', 'action']).size().reset_index(name='count')\n",
    "\n",
    "# Display the grouped data\n",
    "print(grouped_data)\n"
   ]
  },
  {
   "cell_type": "code",
   "execution_count": 22,
   "id": "1b4b1d48",
   "metadata": {},
   "outputs": [
    {
     "data": {
      "image/png": "[encoded data removed]",
      "text/plain": [
       "<Figure size 432x288 with 1 Axes>"
      ]
     },
     "metadata": {
      "needs_background": "light"
     },
     "output_type": "display_data"
    }
   ],
   "source": [
    "# Count the number of occurrences of each gesture\n",
    "gesture_counts = df['gesture'].value_counts()\n",
    "\n",
    "# Create a bar chart of the gesture counts\n",
    "plt.bar(gesture_counts.index, gesture_counts.values)\n",
    "plt.title('Number of occurrences of each gesture')\n",
    "plt.xlabel('Gesture')\n",
    "plt.ylabel('Count')\n",
    "plt.show()\n"
   ]
  },
  {
   "cell_type": "code",
   "execution_count": 23,
   "id": "4a08616d",
   "metadata": {},
   "outputs": [
    {
     "name": "stdout",
     "output_type": "stream",
     "text": [
      "             timestamp  gesture action  \\\n",
      "0  2023-04-29 21:01:13        0    NaN   \n",
      "1  2023-04-29 21:01:14        0    NaN   \n",
      "2  2023-04-29 21:01:14        0    NaN   \n",
      "3  2023-04-29 21:01:14        4   play   \n",
      "4  2023-04-29 21:01:14        4   play   \n",
      "\n",
      "                                           landmarks day_of_week  \n",
      "0  [0.9390199780464172, 0.860045313835144, 0.8386...    Saturday  \n",
      "1  [0.9420972466468811, 0.8733319044113159, 0.841...    Saturday  \n",
      "2  [0.9310383200645447, 0.8304200172424316, 0.964...    Saturday  \n",
      "3  [0.8922770619392395, 0.7841624021530151, 0.950...    Saturday  \n",
      "4  [0.9005929827690125, 0.7858502864837646, 0.952...    Saturday  \n"
     ]
    }
   ],
   "source": [
    "# Parse the timestamp column and extract the day of the week\n",
    "df['day_of_week'] = df['timestamp'].apply(lambda x: datetime.strptime(x, '%Y-%m-%d %H:%M:%S').strftime('%A'))\n",
    "\n",
    "# Display the first 5 rows of the DataFrame with the new day_of_week column\n",
    "print(df.head())"
   ]
  },
  {
   "cell_type": "code",
   "execution_count": 24,
   "id": "129d0da2",
   "metadata": {},
   "outputs": [
    {
     "name": "stdout",
     "output_type": "stream",
     "text": [
      "42.0\n"
     ]
    }
   ],
   "source": [
    "# Calculate the average number of landmarks per gesture\n",
    "avg_landmarks = df.groupby('gesture')['landmarks'].apply(lambda x: x.str.count(',') + 1).mean()\n",
    "\n",
    "# Display the average number of landmarks per gesture\n",
    "print(avg_landmarks)\n"
   ]
  },
  {
   "cell_type": "code",
   "execution_count": 25,
   "id": "356c907e",
   "metadata": {},
   "outputs": [
    {
     "data": {
      "image/png": "[encoded data removed]",
      "text/plain": [
       "<Figure size 432x288 with 1 Axes>"
      ]
     },
     "metadata": {
      "needs_background": "light"
     },
     "output_type": "display_data"
    }
   ],
   "source": [
    "# Count the occurrence of each gesture\n",
    "gesture_counts = df['gesture'].value_counts()\n",
    "\n",
    "# Create a histogram of the occurrence of each gesture\n",
    "gesture_counts.plot(kind='bar')\n",
    "plt.title('Histogram of the occurrence of each gesture')\n",
    "plt.xlabel('Gesture')\n",
    "plt.ylabel('Count')\n",
    "plt.show()"
   ]
  },
  {
   "cell_type": "code",
   "execution_count": 26,
   "id": "ec553e85",
   "metadata": {},
   "outputs": [
    {
     "name": "stdout",
     "output_type": "stream",
     "text": [
      "   gesture                                          landmarks  action\n",
      "0        0  [42, 42, 42, 42, 42, 42, 42, 42, 42, 42, 42, 4...       0\n",
      "1        2  [42, 42, 42, 42, 42, 42, 42, 42, 42, 42, 42, 4...      46\n",
      "2        3  [42, 42, 42, 42, 42, 42, 42, 42, 42, 42, 42, 4...      53\n",
      "3        4  [42, 42, 42, 42, 42, 42, 42, 42, 42, 42, 42, 4...     290\n",
      "4        5  [42, 42, 42, 42, 42, 42, 42, 42, 42, 42, 42, 4...     136\n",
      "5        7  [42, 42, 42, 42, 42, 42, 42, 42, 42, 42, 42, 4...       0\n"
     ]
    }
   ],
   "source": [
    "# Group the data by gesture and calculate the average number of landmarks and actions for each gesture\n",
    "grouped_data = df.groupby('gesture').agg({'landmarks': lambda x: x.str.count(',') + 1, 'action': 'count'}).reset_index()\n",
    "\n",
    "# Display the grouped and aggregated data\n",
    "print(grouped_data)\n"
   ]
  },
  {
   "cell_type": "code",
   "execution_count": 27,
   "id": "4428ba00",
   "metadata": {},
   "outputs": [
    {
     "data": {
      "image/png": "[encoded data removed]",
      "text/plain": [
       "<Figure size 432x288 with 2 Axes>"
      ]
     },
     "metadata": {
      "needs_background": "light"
     },
     "output_type": "display_data"
    }
   ],
   "source": [
    "# Create a pivot table to calculate the number of gestures for each combination of gesture and action\n",
    "pivot_table = pd.pivot_table(df, values='landmarks', index='gesture', columns='action', aggfunc='count')\n",
    "\n",
    "# Generate the heatmap\n",
    "sns.heatmap(pivot_table, cmap='YlGnBu')\n",
    "\n",
    "# Add labels and title\n",
    "plt.xlabel('Action')\n",
    "plt.ylabel('Gesture')\n",
    "plt.title('Number of Gestures by Gesture and Action')\n",
    "\n",
    "# Show the plot\n",
    "plt.show()"
   ]
  },
  {
   "cell_type": "code",
   "execution_count": null,
   "id": "6ae6a38a",
   "metadata": {},
   "outputs": [],
   "source": []
  }
 ],
 "metadata": {
  "kernelspec": {
   "display_name": "Python 3 (ipykernel)",
   "language": "python",
   "name": "python3"
  },
  "language_info": {
   "codemirror_mode": {
    "name": "ipython",
    "version": 3
   },
   "file_extension": ".py",
   "mimetype": "text/x-python",
   "name": "python",
   "nbconvert_exporter": "python",
   "pygments_lexer": "ipython3",
   "version": "3.9.13"
  }
 },
 "nbformat": 4,
 "nbformat_minor": 5
}
